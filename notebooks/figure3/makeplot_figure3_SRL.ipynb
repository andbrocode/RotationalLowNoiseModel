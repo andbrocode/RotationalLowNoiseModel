{
 "cells": [
  {
   "cell_type": "markdown",
   "id": "4c680a6f",
   "metadata": {},
   "source": [
    "# Low Noise Models - Data Overview  - FinalPlot"
   ]
  },
  {
   "cell_type": "code",
   "execution_count": 1,
   "id": "7d2cf93a",
   "metadata": {
    "ExecuteTime": {
     "end_time": "2023-06-20T11:15:30.174976Z",
     "start_time": "2023-06-20T11:15:29.070492Z"
    }
   },
   "outputs": [],
   "source": [
    "from obspy import * \n",
    "from pandas import *\n",
    "from os import listdir\n",
    "from scipy.stats import median_absolute_deviation as mad\n",
    "\n",
    "import netCDF4 as nc\n",
    "import numpy as np\n",
    "\n",
    "import matplotlib.pyplot as plt\n",
    "\n",
    "import warnings\n",
    "warnings.filterwarnings('ignore')"
   ]
  },
  {
   "cell_type": "code",
   "execution_count": 2,
   "id": "ad4f91a7",
   "metadata": {
    "ExecuteTime": {
     "end_time": "2023-06-20T11:15:30.181058Z",
     "start_time": "2023-06-20T11:15:30.177320Z"
    },
    "code_folding": [
     0
    ]
   },
   "outputs": [],
   "source": [
    "def __cut_frequencies_dataframe(df_psd, fmin, fmax):\n",
    "    ind = []\n",
    "    for i,f in enumerate(df_psd['frequencies']):\n",
    "        if f >= fmin and f <= fmax:\n",
    "            ind.append(i)\n",
    "\n",
    "    df = df_psd.iloc[ind[0]:ind[-1],:]\n",
    "\n",
    "    return df"
   ]
  },
  {
   "cell_type": "code",
   "execution_count": 3,
   "id": "1e34e2dc",
   "metadata": {
    "ExecuteTime": {
     "end_time": "2023-06-20T11:15:30.188063Z",
     "start_time": "2023-06-20T11:15:30.182753Z"
    },
    "code_folding": [
     0
    ]
   },
   "outputs": [],
   "source": [
    "def __conversion(data, informat=None, outformat=None):\n",
    "    '''\n",
    "    data:                  array \n",
    "    informat/outformat:    ASD, PSD, DB\n",
    "    '''\n",
    "    from numpy import log10, sqrt\n",
    "    \n",
    "    \n",
    "    if informat == 'ASD' and outformat == 'PSD':\n",
    "        return data**2\n",
    "    \n",
    "    elif informat == 'PSD' and outformat == 'ASD':\n",
    "        return sqrt(data)\n",
    "\n",
    "    elif informat == 'ASD' and outformat == 'DB':\n",
    "        return 10*log10(data)\n",
    "    \n",
    "    elif informat == 'PSD' and outformat == 'DB':\n",
    "        return 10*log10(data)\n",
    "    \n",
    "    elif informat == 'DB' and outformat == 'PSD':\n",
    "        return 10**(data/10)\n",
    "    \n",
    "    elif informat == 'DB' and outformat == 'ASD':\n",
    "        return sqrt(10**(data/10))\n",
    "    \n",
    "    else:\n",
    "        print(\" -> specified case not defined!\")"
   ]
  },
  {
   "cell_type": "markdown",
   "id": "1081d561",
   "metadata": {},
   "source": [
    "## Configurations"
   ]
  },
  {
   "cell_type": "code",
   "execution_count": 25,
   "id": "df7647e3",
   "metadata": {
    "ExecuteTime": {
     "end_time": "2023-06-20T11:18:35.041738Z",
     "start_time": "2023-06-20T11:18:35.039020Z"
    }
   },
   "outputs": [],
   "source": [
    "config = {}\n",
    "\n",
    "config['workdir'] = \"/import/kilauea-data/LNM/data/FINAL/\"\n",
    "config['workdir'] = \"/home/andbro/kilauea-data/LNM/data/FINAL/\"\n",
    "\n",
    "config['outpath_figures'] = config['workdir']+\"../../figures_final/\"\n"
   ]
  },
  {
   "cell_type": "markdown",
   "id": "49175ad4",
   "metadata": {},
   "source": [
    "### Load RLNM Theory"
   ]
  },
  {
   "cell_type": "code",
   "execution_count": 5,
   "id": "eedfff32",
   "metadata": {
    "ExecuteTime": {
     "end_time": "2023-06-20T11:15:30.253846Z",
     "start_time": "2023-06-20T11:15:30.196756Z"
    }
   },
   "outputs": [],
   "source": [
    "rlnm = read_csv(config['workdir']+\"rlnm_theory.csv\")\n",
    "\n",
    "periods = rlnm['period']\n",
    "rlnm_psd = rlnm['rlnm_psd_median']\n",
    "rlnm_psd_max = rlnm['rlnm_psd_maximum']\n",
    "rlnm_upper_psd = rlnm['rlnm_psd_upper']\n",
    "rlnm_lower_psd = rlnm['rlnm_psd_lower']"
   ]
  },
  {
   "cell_type": "code",
   "execution_count": 6,
   "id": "cc371351",
   "metadata": {
    "ExecuteTime": {
     "end_time": "2023-06-20T11:15:30.262521Z",
     "start_time": "2023-06-20T11:15:30.256370Z"
    }
   },
   "outputs": [],
   "source": [
    "rlnm_db       = __conversion(rlnm_psd, informat='PSD', outformat='DB')\n",
    "rlnm_upper_db = __conversion(rlnm_upper_psd, informat='PSD', outformat='DB')\n",
    "rlnm_lower_db = __conversion(rlnm_lower_psd, informat='PSD', outformat='DB')"
   ]
  },
  {
   "cell_type": "markdown",
   "id": "38e2aeb9",
   "metadata": {
    "ExecuteTime": {
     "end_time": "2022-05-03T11:35:45.193815Z",
     "start_time": "2022-05-03T11:35:45.188184Z"
    }
   },
   "source": [
    "### RLAS Data"
   ]
  },
  {
   "cell_type": "code",
   "execution_count": 7,
   "id": "9f696846",
   "metadata": {
    "ExecuteTime": {
     "end_time": "2023-06-20T11:15:31.059242Z",
     "start_time": "2023-06-20T11:15:30.264207Z"
    }
   },
   "outputs": [],
   "source": [
    "rlas = read_pickle(config['workdir']+\"run_2019_RLAS-Z_3600_hours_stats_mod.pkl\")"
   ]
  },
  {
   "cell_type": "code",
   "execution_count": 8,
   "id": "f5b6a297",
   "metadata": {
    "ExecuteTime": {
     "end_time": "2023-06-20T11:15:31.827074Z",
     "start_time": "2023-06-20T11:15:31.061784Z"
    }
   },
   "outputs": [],
   "source": [
    "rlas_select = read_pickle(config['workdir']+\"2019_RLAS-Z_hours_select_stats.pkl\")"
   ]
  },
  {
   "cell_type": "markdown",
   "id": "2f49058e",
   "metadata": {},
   "source": [
    "### Load ROMY"
   ]
  },
  {
   "cell_type": "code",
   "execution_count": 9,
   "id": "7ca3e494",
   "metadata": {
    "ExecuteTime": {
     "end_time": "2023-06-20T11:15:32.301960Z",
     "start_time": "2023-06-20T11:15:31.829313Z"
    }
   },
   "outputs": [],
   "source": [
    "romy_z = read_pickle(config['workdir']+\"run_2019_ROMY-Z_3600_hours_stats_mod.pkl\")"
   ]
  },
  {
   "cell_type": "code",
   "execution_count": 10,
   "id": "e1ea4e17",
   "metadata": {
    "ExecuteTime": {
     "end_time": "2023-06-20T11:15:33.067174Z",
     "start_time": "2023-06-20T11:15:32.307573Z"
    }
   },
   "outputs": [],
   "source": [
    "romy_z_select = read_pickle(config['workdir']+\"2019_ROMY-Z_hours_select_stats.pkl\")"
   ]
  },
  {
   "cell_type": "code",
   "execution_count": 11,
   "id": "fb78ef86",
   "metadata": {
    "ExecuteTime": {
     "end_time": "2023-06-20T11:15:33.074489Z",
     "start_time": "2023-06-20T11:15:33.070397Z"
    }
   },
   "outputs": [],
   "source": [
    "# romy_u = read_pickle(config['workdir']+\"2019_ROMY-U_hours_stats.pkl\")\n",
    "# romy_v = read_pickle(config['workdir']+\"2019_ROMY-V_hours_stats.pkl\")\n",
    "# romy_w = read_pickle(config['workdir']+\"2019_ROMY-W_hours_stats.pkl\")"
   ]
  },
  {
   "cell_type": "markdown",
   "id": "50485125",
   "metadata": {
    "ExecuteTime": {
     "end_time": "2022-05-09T09:02:17.349952Z",
     "start_time": "2022-05-09T09:02:17.344417Z"
    }
   },
   "source": [
    "### Load PFO Data"
   ]
  },
  {
   "cell_type": "markdown",
   "id": "b2b1ff7b",
   "metadata": {},
   "source": [
    "Frequency range that is used for array-derived rotation computations for this array:\n",
    "\n",
    "- apterture: h = 730 m \n",
    "- velocity:  c = 3800 m/s\n",
    "\n",
    "Poppeliers & Evans (2015):  $ \\frac{0.03 c}{h} < f <  \\frac{ 0.25 c}{ h}$\n",
    "\n",
    "Donner et al. 2017:  $\\frac{0.00238 c}{h} < f < \\frac{0.25 c}{h}$\n"
   ]
  },
  {
   "cell_type": "code",
   "execution_count": 12,
   "id": "e2ee5db6",
   "metadata": {
    "ExecuteTime": {
     "end_time": "2023-06-20T11:15:34.427943Z",
     "start_time": "2023-06-20T11:15:33.076486Z"
    }
   },
   "outputs": [],
   "source": [
    "data_pfo_N = \"run_2019_RPFO-N_3600_stats_mod.pkl\"\n",
    "data_pfo_E = \"run_2019_RPFO-E_3600_stats_mod.pkl\"\n",
    "data_pfo_Z = \"run_2019_RPFO-Z_3600_stats_mod.pkl\"\n",
    "\n",
    "PFO_N = read_pickle(config['workdir']+data_pfo_N)\n",
    "PFO_E = read_pickle(config['workdir']+data_pfo_E)\n",
    "PFO_Z = read_pickle(config['workdir']+data_pfo_Z)\n",
    "\n",
    "fmin, fmax = 1/50, 1.0\n",
    "PFO_N_all = __cut_frequencies_dataframe(PFO_N, fmin, fmax)\n",
    "PFO_E_all = __cut_frequencies_dataframe(PFO_E, fmin, fmax)\n",
    "PFO_Z_all = __cut_frequencies_dataframe(PFO_Z, fmin, fmax)\n",
    "\n",
    "fmin, fmax = 0.00238*3800/730, 0.25*3800/730\n",
    "PFO_N = __cut_frequencies_dataframe(PFO_N_all, fmin, fmax)\n",
    "PFO_E = __cut_frequencies_dataframe(PFO_E_all, fmin, fmax)\n",
    "PFO_Z = __cut_frequencies_dataframe(PFO_Z_all, fmin, fmax)"
   ]
  },
  {
   "cell_type": "markdown",
   "id": "dab68ef2",
   "metadata": {
    "ExecuteTime": {
     "end_time": "2022-07-21T12:33:26.388309Z",
     "start_time": "2022-07-21T12:33:26.386515Z"
    }
   },
   "source": [
    "### Load GRF ADR"
   ]
  },
  {
   "cell_type": "markdown",
   "id": "7230367c",
   "metadata": {
    "ExecuteTime": {
     "end_time": "2022-11-14T14:20:59.586506Z",
     "start_time": "2022-11-14T14:20:59.582138Z"
    }
   },
   "source": [
    "Frequency range that is used for array-derived rotation computations for this array:\n",
    "\n",
    "- apterture: h = 17 852 m \n",
    "- velocity:  c = 3800 m/s\n",
    "\n",
    "Poppeliers & Evans (2015):  $ \\frac{0.03 c}{h} < f <  \\frac{ 0.25 c}{ h}$\n"
   ]
  },
  {
   "cell_type": "code",
   "execution_count": 13,
   "id": "0e6c4286",
   "metadata": {
    "ExecuteTime": {
     "end_time": "2023-06-20T11:15:35.672068Z",
     "start_time": "2023-06-20T11:15:34.429989Z"
    }
   },
   "outputs": [],
   "source": [
    "GRF_array = \"GRF\"\n",
    "\n",
    "data_grf_N = f\"run_2019_RGRF-N_3600_{GRF_array}_stats_mod.pkl\"\n",
    "data_grf_E = f\"run_2019_RGRF-E_3600_{GRF_array}_stats_mod.pkl\"\n",
    "data_grf_Z = f\"run_2019_RGRF-Z_3600_{GRF_array}_stats_mod.pkl\"\n",
    "\n",
    "GRF_N_all = read_pickle(config['workdir']+data_grf_N)\n",
    "GRF_E_all = read_pickle(config['workdir']+data_grf_E)\n",
    "GRF_Z_all = read_pickle(config['workdir']+data_grf_Z)\n",
    "\n",
    "fmin, fmax = 0.03*3800/17851, 0.25*3800/17851\n",
    "GRF_N = __cut_frequencies_dataframe(GRF_N_all, fmin, fmax)\n",
    "GRF_E = __cut_frequencies_dataframe(GRF_E_all, fmin, fmax)\n",
    "GRF_Z = __cut_frequencies_dataframe(GRF_Z_all, fmin, fmax)"
   ]
  },
  {
   "cell_type": "markdown",
   "id": "6e2c4192",
   "metadata": {
    "ExecuteTime": {
     "end_time": "2022-06-08T16:52:41.335639Z",
     "start_time": "2022-06-08T16:52:41.333370Z"
    }
   },
   "source": [
    "### Load ROMY ADR 2019"
   ]
  },
  {
   "cell_type": "markdown",
   "id": "e7627ce9",
   "metadata": {
    "ExecuteTime": {
     "end_time": "2022-11-14T14:22:59.904942Z",
     "start_time": "2022-11-14T14:22:59.900769Z"
    }
   },
   "source": [
    "Frequency range that is used for array-derived rotation computations for this array:\n",
    "\n",
    "- apterture: h = 2628 m \n",
    "- velocity:  c = 3400 m/s\n",
    "\n",
    "Poppeliers & Evans (2015):  $ \\frac{0.03 c}{h} < f <  \\frac{ 0.25 c}{ h}$\n"
   ]
  },
  {
   "cell_type": "code",
   "execution_count": 14,
   "id": "daa808fc",
   "metadata": {
    "ExecuteTime": {
     "end_time": "2023-06-20T11:15:36.912617Z",
     "start_time": "2023-06-20T11:15:35.674901Z"
    }
   },
   "outputs": [],
   "source": [
    "subarray = \"optimal\" ## all | inner | optimal\n",
    "\n",
    "RMY_Z = read_pickle(config['workdir']+f\"run_2019_ROMY_ADR-Z_3600_{subarray}_stats_mod.pkl\")\n",
    "RMY_N = read_pickle(config['workdir']+f\"run_2019_ROMY_ADR-N_3600_{subarray}_stats_mod.pkl\")\n",
    "RMY_E = read_pickle(config['workdir']+f\"run_2019_ROMY_ADR-E_3600_{subarray}_stats_mod.pkl\")\n",
    "\n",
    "## cut at 40 seconds\n",
    "RMY_Z_all = RMY_Z[RMY_Z['frequencies'] > 1/40]\n",
    "RMY_N_all = RMY_N[RMY_N['frequencies'] > 1/40]\n",
    "RMY_E_all = RMY_E[RMY_E['frequencies'] > 1/40]\n",
    "\n",
    "fmin, fmax = 0.03*3400/2628, 0.25*3400/2628\n",
    "RMY_N = __cut_frequencies_dataframe(RMY_N_all, fmin, fmax)\n",
    "RMY_E = __cut_frequencies_dataframe(RMY_E_all, fmin, fmax)\n",
    "RMY_Z = __cut_frequencies_dataframe(RMY_Z_all, fmin, fmax)"
   ]
  },
  {
   "cell_type": "code",
   "execution_count": 15,
   "id": "0ddd7a73",
   "metadata": {
    "ExecuteTime": {
     "end_time": "2023-06-20T11:15:38.172384Z",
     "start_time": "2023-06-20T11:15:36.914123Z"
    }
   },
   "outputs": [],
   "source": [
    "subarray = \"inner\" ## all | inner | optimal\n",
    "\n",
    "RMY_Z_i = read_pickle(config['workdir']+f\"run_2019_ROMY_ADR-Z_3600_{subarray}_stats_mod.pkl\")\n",
    "RMY_N_i = read_pickle(config['workdir']+f\"run_2019_ROMY_ADR-N_3600_{subarray}_stats_mod.pkl\")\n",
    "RMY_E_i = read_pickle(config['workdir']+f\"run_2019_ROMY_ADR-E_3600_{subarray}_stats_mod.pkl\")\n",
    "\n",
    "## cut at 40 seconds\n",
    "RMY_Z_i_all = RMY_Z_i[RMY_Z_i['frequencies'] > 1/40]\n",
    "RMY_N_i_all = RMY_N_i[RMY_N_i['frequencies'] > 1/40]\n",
    "RMY_E_i_all = RMY_E_i[RMY_E_i['frequencies'] > 1/40]\n",
    "\n",
    "fmin, fmax = 0.02*3400/230, 0.25*3400/230\n",
    "RMY_N_i = __cut_frequencies_dataframe(RMY_N_i_all, fmin, fmax)\n",
    "RMY_E_i = __cut_frequencies_dataframe(RMY_E_i_all, fmin, fmax)\n",
    "RMY_Z_i = __cut_frequencies_dataframe(RMY_Z_i_all, fmin, fmax)"
   ]
  },
  {
   "cell_type": "markdown",
   "id": "63c1e8d4",
   "metadata": {},
   "source": [
    "### Load Single Station Model"
   ]
  },
  {
   "cell_type": "code",
   "execution_count": 16,
   "id": "9e9569e2",
   "metadata": {
    "ExecuteTime": {
     "end_time": "2023-06-20T11:15:38.767205Z",
     "start_time": "2023-06-20T11:15:38.173679Z"
    }
   },
   "outputs": [],
   "source": [
    "ssm = read_pickle(config['workdir']+\"station_2019_derived_rlnm.pkl\")\n",
    "\n",
    "## cutoff first samples\n",
    "ssm = ssm.iloc[:-10,:]\n",
    "\n",
    "ssm['frequencies'] = 1/ssm['period']\n",
    "\n",
    "fmin, fmax = 1/200, 3.0\n",
    "ssm = __cut_frequencies_dataframe(ssm, fmin, fmax)\n",
    "\n",
    "ssm_period = ssm['period']\n",
    "ssm_median_psd = ssm['median']\n",
    "ssm_minimal_psd = ssm['minimal']\n",
    "\n",
    "ssm_median_psd = __conversion(ssm['median'], informat=\"ASD\", outformat=\"PSD\")\n",
    "ssm_minimal_psd = __conversion(ssm['minimal'], informat=\"ASD\", outformat=\"PSD\")"
   ]
  },
  {
   "cell_type": "markdown",
   "id": "3ad31ebe",
   "metadata": {
    "ExecuteTime": {
     "end_time": "2022-06-08T15:59:27.587671Z",
     "start_time": "2022-06-08T15:59:27.585901Z"
    }
   },
   "source": [
    "### Load ROMY-V 2022"
   ]
  },
  {
   "cell_type": "code",
   "execution_count": 17,
   "id": "e3c2749c",
   "metadata": {
    "ExecuteTime": {
     "end_time": "2023-06-20T11:15:38.773252Z",
     "start_time": "2023-06-20T11:15:38.769779Z"
    }
   },
   "outputs": [],
   "source": [
    "# romy_v = read_pickle(config['workdir']+\"STATS/\"+\"2022_ROMY-V_stats.pkl\")\n",
    "\n",
    "# romy_v_median_psd = romy_v['psds_median']\n",
    "# romy_v_minimal_psd = romy_v['psds_minimal']"
   ]
  },
  {
   "cell_type": "markdown",
   "id": "458fba7d",
   "metadata": {
    "ExecuteTime": {
     "end_time": "2022-11-17T12:35:00.338464Z",
     "start_time": "2022-11-17T12:35:00.335587Z"
    }
   },
   "source": [
    "### Load Instruments Self-Noise"
   ]
  },
  {
   "cell_type": "code",
   "execution_count": 20,
   "id": "538ee32f",
   "metadata": {
    "ExecuteTime": {
     "end_time": "2023-06-20T11:17:06.448525Z",
     "start_time": "2023-06-20T11:17:05.764891Z"
    }
   },
   "outputs": [],
   "source": [
    "bs1c = read_csv(config['workdir']+\"BS1C.csv\", names=['x','y'])\n",
    "qrs  = read_csv(config['workdir']+\"QRS.csv\", names=['x','y'])\n",
    "bs3a  = read_csv(config['workdir']+\"BS3A.csv\", names=['x','y'])\n",
    "alfra  = read_csv(config['workdir']+\"ALFRA.csv\", names=['x','y'])\n",
    "brs  = read_csv(config['workdir']+\"BRS.csv\", names=['x','y'])\n",
    "\n",
    "\n",
    "bs3a['y2'] = (bs3a['x']*bs3a['y'])**2\n",
    "bs1c['y2'] = (bs1c['x']*bs1c['y'])**2\n",
    "qrs['y2'] = (qrs['x']*qrs['y'])**2\n",
    "brs['y2'] = (brs['x']*brs['y'])**2\n",
    "alfra['y2'] = (alfra['x']*alfra['y'])**2"
   ]
  },
  {
   "cell_type": "markdown",
   "id": "629d9a14",
   "metadata": {
    "ExecuteTime": {
     "end_time": "2022-06-08T14:52:41.358742Z",
     "start_time": "2022-06-08T14:52:41.356845Z"
    }
   },
   "source": [
    "### Load RLNM Distribution"
   ]
  },
  {
   "cell_type": "code",
   "execution_count": 26,
   "id": "28eec721",
   "metadata": {
    "ExecuteTime": {
     "end_time": "2023-06-20T11:18:40.161264Z",
     "start_time": "2023-06-20T11:18:37.902414Z"
    }
   },
   "outputs": [],
   "source": [
    "import pickle\n",
    "\n",
    "with open(config['workdir']+\"RLNM_distribution.pkl\",'rb') as f:\n",
    "    output = pickle.load(f)"
   ]
  },
  {
   "cell_type": "markdown",
   "id": "94727e03",
   "metadata": {},
   "source": [
    "## Plot Overview - Median"
   ]
  },
  {
   "cell_type": "code",
   "execution_count": 27,
   "id": "c4d444fd",
   "metadata": {
    "ExecuteTime": {
     "end_time": "2023-06-20T11:18:42.831495Z",
     "start_time": "2023-06-20T11:18:42.800174Z"
    },
    "code_folding": [
     0
    ]
   },
   "outputs": [],
   "source": [
    "def __plot_rlnm_overview():\n",
    "    \n",
    "    font = 14\n",
    "\n",
    "    fig, ax = plt.subplots(2,2,figsize=(15,10), sharex=True, sharey=True)\n",
    "\n",
    "    plt.subplots_adjust(wspace=0.05, hspace=0.08)\n",
    "    \n",
    "    ## add Frequency Axis\n",
    "#     g = lambda x: 1/x\n",
    "#     ax2 = ax.secondary_xaxis(\"top\", functions=(g,g))\n",
    "#     ax2.set_xlabel(\"Frequency in Hz\", fontsize=font, labelpad=5)\n",
    "#     ax2.set_xticklabels(1/periods, fontsize=11)\n",
    "    \n",
    "\n",
    "    ## PFO ADR data\n",
    "    lim_n, lim_e, lim_z = 17, 17, 80\n",
    "    ax[0,0].plot(1/PFO_N['frequencies'][lim_n:], PFO_N['median'][lim_n:],  color=\"darkgreen\", zorder=2, label=\"PFO ADR-N 2019\")\n",
    "    ax[0,0].plot(1/PFO_E['frequencies'][lim_e:], PFO_E['median'][lim_e:], color=\"yellowgreen\", zorder=2, label=\"PFO ADR-E 2019\")\n",
    "    ax[0,0].plot(1/PFO_Z['frequencies'][lim_z:], PFO_Z['median'][lim_z:], color=\"olive\", zorder=2, label=\"PFO ADR-Z 2019\")\n",
    "    \n",
    "    ax[0,0].plot(1/PFO_N['frequencies'][:lim_n], PFO_N['median'][:lim_n], ls=\"--\", color=\"darkgreen\", zorder=2)\n",
    "    ax[0,0].plot(1/PFO_E['frequencies'][:lim_e], PFO_E['median'][:lim_e], ls=\"--\", color=\"yellowgreen\", zorder=2)\n",
    "    ax[0,0].plot(1/PFO_Z['frequencies'][:lim_z], PFO_Z['median'][:lim_z], ls=\"--\", color=\"olive\", zorder=2)\n",
    "\n",
    "\n",
    "    ## GRF ADR data\n",
    "    lim_n, lim_e, lim_z = 13, 13, 40\n",
    "    ax[1,0].plot(1/GRF_N['frequencies'][lim_n:], GRF_N['median'][lim_n:], color=\"sienna\", zorder=2, label=f\"{GRF_array} ADR-N 2019\")\n",
    "    ax[1,0].plot(1/GRF_E['frequencies'][lim_e:], GRF_E['median'][lim_e:], color=\"tan\", zorder=2, label=f\"{GRF_array} ADR-E 2019\")\n",
    "    ax[1,0].plot(1/GRF_Z['frequencies'][lim_z:], GRF_Z['median'][lim_z:], color=\"indianred\", zorder=2, label=f\"{GRF_array} ADR-Z 2019\")\n",
    "    \n",
    "    ax[1,0].plot(1/GRF_N['frequencies'][:lim_n], GRF_N['median'][:lim_n], ls=\"--\", color=\"sienna\", zorder=2)\n",
    "    ax[1,0].plot(1/GRF_E['frequencies'][:lim_e], GRF_E['median'][:lim_e], ls=\"--\", color=\"tan\", zorder=2)\n",
    "    ax[1,0].plot(1/GRF_Z['frequencies'][:lim_z], GRF_Z['median'][:lim_z], ls=\"--\", color=\"indianred\", zorder=2)\n",
    "    \n",
    "    lim = 190\n",
    "    ax[1,0].plot(1/GRF_N_all['frequencies'][:lim], GRF_N_all['median'][:lim], ls=\"-\", color=\"sienna\", zorder=1, alpha=0.5)\n",
    "    ax[1,0].plot(1/GRF_E_all['frequencies'][:lim], GRF_E_all['median'][:lim], ls=\"-\", color=\"tan\", zorder=1, alpha=0.5)\n",
    "    ax[1,0].plot(1/GRF_Z_all['frequencies'][:lim], GRF_Z_all['median'][:lim], ls=\"-\", color=\"indianred\", zorder=1, alpha=0.5)\n",
    "        \n",
    "    \n",
    "    ## ROMY ADR data 2019\n",
    "    lim_n, lim_e, lim_z = 15, 15, 80\n",
    "    ax[0,1].plot(1/RMY_N['frequencies'][lim_n:], RMY_N['median'][lim_n:], color=\"darkcyan\", zorder=2, label=\"ROMY ADR-N 2019\")\n",
    "    ax[0,1].plot(1/RMY_E['frequencies'][lim_e:], RMY_E['median'][lim_e:], color=\"skyblue\", zorder=2, label=\"ROMY ADR-E 2019\")\n",
    "    ax[0,1].plot(1/RMY_Z['frequencies'][lim_z:], RMY_Z['median'][lim_z:], color=\"cadetblue\", zorder=2, label=\"ROMY ADR-Z 2019\")\n",
    "\n",
    "    ax[0,1].plot(1/RMY_N['frequencies'][:lim_n], RMY_N['median'][:lim_n], ls=\"--\", color=\"darkcyan\", zorder=2)\n",
    "    ax[0,1].plot(1/RMY_E['frequencies'][:lim_e], RMY_E['median'][:lim_e], ls=\"--\", color=\"skyblue\", zorder=2)\n",
    "    ax[0,1].plot(1/RMY_Z['frequencies'][:lim_z], RMY_Z['median'][:lim_z], ls=\"--\", color=\"cadetblue\", zorder=2)\n",
    "    \n",
    "    ## ROMY ADR data 2019 -inner\n",
    "    ax[0,1].plot(1/RMY_N_i['frequencies'], RMY_N_i['median'], color=\"darkcyan\", zorder=2)\n",
    "    ax[0,1].plot(1/RMY_E_i['frequencies'], RMY_E_i['median'], color=\"skyblue\", zorder=2)\n",
    "    ax[0,1].plot(1/RMY_Z_i['frequencies'], RMY_Z_i['median'], color=\"cadetblue\", zorder=2)\n",
    "\n",
    "    \n",
    "    ## single stations model\n",
    "    ax[1,1].plot(ssm['period'], ssm['median']**2, color=\"purple\", zorder=2, label=\"Single-Stations 2019\")    \n",
    "    \n",
    "    ax[1,1].fill_between(ssm['period'], ssm['perc_lower']**2, ssm['perc_upper']**2, color=\"purple\", alpha=0.2, zorder=3)\n",
    "    \n",
    "    \n",
    "    ## romy data\n",
    "    ax[1,1].plot(1/romy_z['frequencies'], romy_z['median'], color=\"coral\", ls=\"--\", zorder=3, label=\"ROMY-Z 2019\")\n",
    "    ax[1,1].plot(1/romy_z_select['frequencies'], romy_z_select['psds_median'], color=\"darkorange\", zorder=3, label=\"ROMY-Z 2019 select\")\n",
    "    \n",
    "    ax[1,1].fill_between(1/romy_z['frequencies'], romy_z['perc_lower'], romy_z['perc_upper'], color=\"coral\", alpha=0.2, zorder=3)\n",
    "\n",
    "    \n",
    "    ## romy others\n",
    "#     plt.plot(1/romy_u['frequencies'], romy_u['psds_median'], color=\"pink\", zorder=2, label=\"ROMY-U 2022\")\n",
    "#     plt.plot(1/romy_v['frequencies'], romy_v['psds_median'], color=\"hotpink\", zorder=2, label=\"ROMY-V 2022\")\n",
    "#     plt.plot(1/romy_w['frequencies'], romy_w['psds_median'], color=\"orchid\", zorder=2, label=\"ROMY-W 2022\")\n",
    "        \n",
    "    ## rlas data\n",
    "    ax[1,1].plot(1/rlas['frequencies'], rlas['median'], color=\"blue\", ls=\"--\", zorder=3, label=\"RLAS 2019\")\n",
    "    ax[1,1].plot(1/rlas_select['frequencies'], rlas_select['psds_median'], color=\"deepskyblue\", zorder=3, label=\"RLAS 2019 select\")\n",
    "    \n",
    "    ax[1,1].fill_between(1/rlas['frequencies'], rlas['perc_lower'], rlas['perc_upper'], color=\"blue\", alpha=0.2, zorder=2)\n",
    "\n",
    "    \n",
    "    ## plotting basics ---------------------\n",
    "    \n",
    "    cmap = plt.cm.get_cmap('magma_r')\n",
    "    cmap.set_under(color='white')\n",
    "    \n",
    "    ## theoretical rlnm\n",
    "    y_axis = 10**(output['bin_mids']/10)\n",
    "    x_axis = output['period']\n",
    "    \n",
    "    for i in range(2):\n",
    "        for j in range(2):\n",
    "            \n",
    "#             ax[i,j].plot(periods, rlnm_psd, color=\"black\", zorder=2, lw=2, label=\"RLNM\")\n",
    "            ax[i,j].plot(output['period'], 10**(output['bins_minimum']/10), color=\"black\", zorder=2, lw=1.5, alpha=0.8, label=\"RLNM\")\n",
    "            \n",
    "            im = ax[i,j].pcolor(x_axis, y_axis, output['dist'].T, cmap=cmap, vmin=1e-12, alpha=0.99)\n",
    "\n",
    "            ax[i,j].set_xscale(\"log\")\n",
    "            ax[i,j].set_yscale(\"log\")\n",
    "            ax[i,j].set_xlim(1, 200)\n",
    "            \n",
    "            ax[i,j].set_ylim(8e-27, 5e-19)\n",
    "    \n",
    "            ax[i,j].grid(axis=\"both\", which=\"both\", ls=\"-\", zorder=0, alpha=0.5)\n",
    "            ax[i,j].legend(loc=3)    \n",
    "            ax[i,j].tick_params(axis='both', labelsize=font-2)\n",
    "\n",
    "#     plt.fill_betweenx(np.linspace(ymin,ymax,5), x1=0, x2=2.5, color=\"lightgrey\", alpha=0.4, zorder=2)\n",
    "#     plt.fill_betweenx(np.linspace(ymin-10,ymax+10,5), x1=100, x2=300, color=\"lightgrey\", alpha=0.4, zorder=2)\n",
    "    \n",
    "    ## panel labels\n",
    "    ax[0,0].text(.01, .99, 'a)', ha='left', va='top', transform=ax[0,0].transAxes, fontsize=font+2)\n",
    "    ax[0,1].text(.01, .99, 'b)', ha='left', va='top', transform=ax[0,1].transAxes, fontsize=font+2)\n",
    "    ax[1,0].text(.01, .99, 'c)', ha='left', va='top', transform=ax[1,0].transAxes, fontsize=font+2)\n",
    "    ax[1,1].text(.01, .99, 'd)', ha='left', va='top', transform=ax[1,1].transAxes, fontsize=font+2)\n",
    "                \n",
    "\n",
    "    ax[1,0].set_xlabel(\"Period (s)\", fontsize=font)\n",
    "    ax[1,1].set_xlabel(\"Period (s)\", fontsize=font)\n",
    "\n",
    "    ax[0,0].set_ylabel(r\"PSD ($rad^2$ /$s^2$ /Hz)\",fontsize=font)\n",
    "    ax[1,0].set_ylabel(r\"PSD ($rad^2$ /$s^2$ /Hz)\",fontsize=font)\n",
    "    \n",
    "    ## add colorbar\n",
    "    cbar_ax = fig.add_axes([0.91, 0.125, 0.02, 0.755]) #[left, bottom, width, height]\n",
    "    cb = plt.colorbar(im, cax=cbar_ax)    \n",
    "    cb.set_label(\"Propability Density\", fontsize=font, labelpad=-40, color=\"white\")\n",
    "\n",
    "    plt.show();\n",
    "    return fig \n",
    "\n",
    "# fig = __plot_rlnm_overview()"
   ]
  },
  {
   "cell_type": "code",
   "execution_count": 28,
   "id": "0b76a828",
   "metadata": {
    "ExecuteTime": {
     "end_time": "2023-06-20T11:18:43.490039Z",
     "start_time": "2023-06-20T11:18:43.485920Z"
    }
   },
   "outputs": [],
   "source": [
    "# fig.savefig(config['outpath_figures']+\"Overview_median_Final\"+\".png\", fmt=\"png\", bbox_inches=\"tight\", dpi=300, transparent=None)"
   ]
  },
  {
   "cell_type": "code",
   "execution_count": null,
   "id": "1218b54d",
   "metadata": {
    "ExecuteTime": {
     "start_time": "2023-06-20T11:20:48.428Z"
    },
    "code_folding": [
     0
    ]
   },
   "outputs": [],
   "source": [
    "def __plot_rlnm_overview2():\n",
    "    \n",
    "    from numpy import pi, ones\n",
    "    \n",
    "    font = 14\n",
    "\n",
    "    fig, ax = plt.subplots(3,2,figsize=(15,18), sharex=True, sharey=False)\n",
    "\n",
    "    plt.subplots_adjust(wspace=0.05, hspace=0.08)\n",
    "    \n",
    "    ## add Frequency Axis\n",
    "#     g = lambda x: 1/x\n",
    "#     ax2 = ax.secondary_xaxis(\"top\", functions=(g,g))\n",
    "#     ax2.set_xlabel(\"Frequency in Hz\", fontsize=font, labelpad=5)\n",
    "#     ax2.set_xticklabels(1/periods, fontsize=11)\n",
    "    \n",
    "\n",
    "    ## PFO ADR data\n",
    "    lim_n, lim_e, lim_z = 17, 17, 80\n",
    "    ax[0,0].plot(1/PFO_N['frequencies'][lim_n:], PFO_N['median'][lim_n:],  color=\"darkgreen\", zorder=2, label=\"PFO ADR-N 2019\")\n",
    "    ax[0,0].plot(1/PFO_E['frequencies'][lim_e:], PFO_E['median'][lim_e:], color=\"yellowgreen\", zorder=2, label=\"PFO ADR-E 2019\")\n",
    "    ax[0,0].plot(1/PFO_Z['frequencies'][lim_z:], PFO_Z['median'][lim_z:], color=\"olive\", zorder=2, label=\"PFO ADR-Z 2019\")\n",
    "    \n",
    "    ax[0,0].plot(1/PFO_N['frequencies'][:lim_n], PFO_N['median'][:lim_n], ls=\"--\", color=\"darkgreen\", zorder=2)\n",
    "    ax[0,0].plot(1/PFO_E['frequencies'][:lim_e], PFO_E['median'][:lim_e], ls=\"--\", color=\"yellowgreen\", zorder=2)\n",
    "    ax[0,0].plot(1/PFO_Z['frequencies'][:lim_z], PFO_Z['median'][:lim_z], ls=\"--\", color=\"olive\", zorder=2)\n",
    "\n",
    "\n",
    "    ## GRF ADR data\n",
    "    lim_n, lim_e, lim_z = 13, 13, 40\n",
    "    ax[1,0].plot(1/GRF_N['frequencies'][lim_n:], GRF_N['median'][lim_n:], color=\"sienna\", zorder=2, label=f\"{GRF_array} ADR-N 2019\")\n",
    "    ax[1,0].plot(1/GRF_E['frequencies'][lim_e:], GRF_E['median'][lim_e:], color=\"tan\", zorder=2, label=f\"{GRF_array} ADR-E 2019\")\n",
    "    ax[1,0].plot(1/GRF_Z['frequencies'][lim_z:], GRF_Z['median'][lim_z:], color=\"indianred\", zorder=2, label=f\"{GRF_array} ADR-Z 2019\")\n",
    "    \n",
    "    ax[1,0].plot(1/GRF_N['frequencies'][:lim_n], GRF_N['median'][:lim_n], ls=\"--\", color=\"sienna\", zorder=2)\n",
    "    ax[1,0].plot(1/GRF_E['frequencies'][:lim_e], GRF_E['median'][:lim_e], ls=\"--\", color=\"tan\", zorder=2)\n",
    "    ax[1,0].plot(1/GRF_Z['frequencies'][:lim_z], GRF_Z['median'][:lim_z], ls=\"--\", color=\"indianred\", zorder=2)\n",
    "    \n",
    "    lim1, lim2 = 20, 190\n",
    "    ax[1,0].plot(1/GRF_N_all['frequencies'][lim1:lim2], GRF_N_all['median'][lim1:lim2], ls=\":\", color=\"sienna\", zorder=1, alpha=0.7)\n",
    "    ax[1,0].plot(1/GRF_E_all['frequencies'][lim1:lim2], GRF_E_all['median'][lim1:lim2], ls=\":\", color=\"tan\", zorder=1, alpha=0.7)\n",
    "    ax[1,0].plot(1/GRF_Z_all['frequencies'][lim1:lim2], GRF_Z_all['median'][lim1:lim2], ls=\":\", color=\"indianred\", zorder=1, alpha=0.7)\n",
    "    \n",
    "#     ax[1,0].plot(1/GRF_N['frequencies'][lim_n:], 1/(GRF_N['frequencies'][lim_n:])**2*1e-28)\n",
    "#     ax[1,0].plot(1/GRF_N['frequencies'][lim_n:], 1/(GRF_N['frequencies'][lim_n:])**3*1e-28)\n",
    "    \n",
    "    ## ROMY ADR data 2019\n",
    "    lim_n, lim_e, lim_z = 15, 15, 80\n",
    "    ax[0,1].plot(1/RMY_N['frequencies'][lim_n:], RMY_N['median'][lim_n:], color=\"darkcyan\", zorder=2, label=\"ROMY ADR-N 2019\")\n",
    "    ax[0,1].plot(1/RMY_E['frequencies'][lim_e:], RMY_E['median'][lim_e:], color=\"skyblue\", zorder=2, label=\"ROMY ADR-E 2019\")\n",
    "    ax[0,1].plot(1/RMY_Z['frequencies'][lim_z:], RMY_Z['median'][lim_z:], color=\"cadetblue\", zorder=2, label=\"ROMY ADR-Z 2019\")\n",
    "\n",
    "    ax[0,1].plot(1/RMY_N['frequencies'][:lim_n], RMY_N['median'][:lim_n], ls=\"--\", color=\"darkcyan\", zorder=2)\n",
    "    ax[0,1].plot(1/RMY_E['frequencies'][:lim_e], RMY_E['median'][:lim_e], ls=\"--\", color=\"skyblue\", zorder=2)\n",
    "    ax[0,1].plot(1/RMY_Z['frequencies'][:lim_z], RMY_Z['median'][:lim_z], ls=\"--\", color=\"cadetblue\", zorder=2)\n",
    "    \n",
    "    ## ROMY ADR data 2019 -inner\n",
    "    ax[0,1].plot(1/RMY_N_i['frequencies'], RMY_N_i['median'], ls=\":\", color=\"darkcyan\", zorder=2)\n",
    "    ax[0,1].plot(1/RMY_E_i['frequencies'], RMY_E_i['median'], ls=\":\", color=\"skyblue\", zorder=2)\n",
    "    ax[0,1].plot(1/RMY_Z_i['frequencies'], RMY_Z_i['median'], ls=\":\", color=\"cadetblue\", zorder=2)\n",
    "\n",
    "    \n",
    "    ## single stations model\n",
    "    ax[2,0].plot(ssm['period'], ssm['median']**2, color=\"purple\", zorder=2, label=\"Single-Stations 2019\")    \n",
    "    \n",
    "    ax[2,0].fill_between(ssm['period'], ssm['perc_lower']**2, ssm['perc_upper']**2, color=\"purple\", alpha=0.2, zorder=3)\n",
    "    \n",
    "    \n",
    "    ## romy data\n",
    "    ax[1,1].plot(1/romy_z['frequencies'], romy_z['median'], color=\"coral\", ls=\"--\", zorder=3, label=\"ROMY-Z 2019\")\n",
    "#     ax[1,1].plot(1/romy_z_select['frequencies'], romy_z_select['psds_median'], color=\"darkorange\", zorder=3, label=\"ROMY-Z 2019 select\")\n",
    "    \n",
    "    ax[1,1].fill_between(1/romy_z['frequencies'], romy_z['perc_lower'], romy_z['perc_upper'], color=\"coral\", alpha=0.2, zorder=3)\n",
    "\n",
    "    \n",
    "    ## instruments self-noise\n",
    "    ax[2,1].plot(1/bs1c['x'], bs1c['y2'], ls=\"--\", label=\"BS1C\", zorder=2, color=\"green\")\n",
    "    ax[2,1].plot(1/qrs['x'], qrs['y2'], label=\"QRS\", zorder=2, color=\"violet\")\n",
    "    ax[2,1].plot(1/bs3a['x'], bs3a['y2'], label=\"BS3A\", zorder=2, color=\"sienna\")\n",
    "    ax[2,1].plot(1/brs['x'], brs['y2'], label=\"BRS\", zorder=2, color=\"aqua\")\n",
    "    ax[2,1].plot(1/alfra['x'], alfra['y2'], label=\"ALFRA\", zorder=2, color=\"yellowgreen\")\n",
    "\n",
    "    e_rot = 2*pi/86400\n",
    "    ax[2,1].plot([1, 200], ones(2)*(e_rot*2e-8)**2, color=\"blue\", ls=\"-.\", label=\"G-ring\", zorder=2)\n",
    "    ax[2,1].plot([1, 200], ones(2)*(6.2e-26), color=\"coral\", ls=\"-.\", label=\"ROMY\", zorder=2)\n",
    "\n",
    "    \n",
    "    ## romy others\n",
    "#     plt.plot(1/romy_u['frequencies'], romy_u['psds_median'], color=\"pink\", zorder=2, label=\"ROMY-U 2022\")\n",
    "#     plt.plot(1/romy_v['frequencies'], romy_v['psds_median'], color=\"hotpink\", zorder=2, label=\"ROMY-V 2022\")\n",
    "#     plt.plot(1/romy_w['frequencies'], romy_w['psds_median'], color=\"orchid\", zorder=2, label=\"ROMY-W 2022\")\n",
    "        \n",
    "    ## rlas data\n",
    "    ax[1,1].plot(1/rlas['frequencies'], rlas['median'], color=\"blue\", ls=\"--\", zorder=3, label=\"G-ring 2019\")\n",
    "#     ax[1,1].plot(1/rlas_select['frequencies'], rlas_select['psds_median'], color=\"deepskyblue\", zorder=3, label=\"G-ring 2019 select\")\n",
    "    \n",
    "    ax[1,1].fill_between(1/rlas['frequencies'], rlas['perc_lower'], rlas['perc_upper'], color=\"blue\", alpha=0.2, zorder=2)\n",
    "\n",
    "    \n",
    "    ## plotting basics ---------------------\n",
    "    \n",
    "    cmap = plt.cm.get_cmap('magma_r')\n",
    "    cmap.set_under(color='white')\n",
    "    \n",
    "    ## theoretical rlnm\n",
    "    y_axis = 10**(output['bin_mids']/10)\n",
    "    x_axis = output['period']\n",
    "    \n",
    "    for i in range(3):\n",
    "        for j in range(2):\n",
    "            \n",
    "            ax[i,j].plot(periods, rlnm_psd, color=\"black\", zorder=2, lw=1.5, alpha=0.8, label=\"RLNM\")\n",
    "#             ax[i,j].plot(output['period'], 10**(output['bins_minimum']/10), color=\"black\", zorder=2, lw=1.5, alpha=0.8, label=\"RLNM\")\n",
    "            \n",
    "            im = ax[i,j].pcolor(x_axis, y_axis, output['dist'].T, cmap=cmap, vmin=1e-12, alpha=0.99)\n",
    "\n",
    "            ax[i,j].set_xscale(\"log\")\n",
    "            ax[i,j].set_yscale(\"log\")\n",
    "            ax[i,j].set_xlim(1, 200)\n",
    "    \n",
    "            ax[i,j].grid(axis=\"both\", which=\"both\", ls=\"-\", zorder=0, alpha=0.5)\n",
    "            ax[i,j].legend(loc=3)    \n",
    "            ax[i,j].tick_params(axis='both', labelsize=font-2)\n",
    "\n",
    "    ax[0,0].set_ylim(8e-27, 5e-19)\n",
    "    ax[0,1].set_ylim(8e-27, 5e-19)\n",
    "    ax[1,0].set_ylim(8e-27, 5e-19)\n",
    "    ax[1,1].set_ylim(8e-27, 5e-19)\n",
    "    ax[2,0].set_ylim(8e-27, 1e-15)\n",
    "    ax[2,1].set_ylim(8e-27, 1e-15)\n",
    "    \n",
    "    ax[0,1].set_yticklabels([])\n",
    "    ax[1,1].set_yticklabels([])\n",
    "    ax[2,1].set_yticklabels([])\n",
    "\n",
    "    ax[2,1].legend(loc=1, ncol=2)    \n",
    "\n",
    "    \n",
    "    ## panel labels\n",
    "    ax[0,0].text(.01, .99, 'a)', ha='left', va='top', transform=ax[0,0].transAxes, fontsize=font+2)\n",
    "    ax[0,1].text(.01, .99, 'b)', ha='left', va='top', transform=ax[0,1].transAxes, fontsize=font+2)\n",
    "    ax[1,0].text(.01, .99, 'c)', ha='left', va='top', transform=ax[1,0].transAxes, fontsize=font+2)\n",
    "    ax[1,1].text(.01, .99, 'd)', ha='left', va='top', transform=ax[1,1].transAxes, fontsize=font+2)\n",
    "    ax[2,0].text(.01, .99, 'e)', ha='left', va='top', transform=ax[2,0].transAxes, fontsize=font+2)\n",
    "    ax[2,1].text(.01, .99, 'f)', ha='left', va='top', transform=ax[2,1].transAxes, fontsize=font+2)\n",
    "                \n",
    "\n",
    "    ax[2,0].set_xlabel(\"Period (s)\", fontsize=font)\n",
    "    ax[2,1].set_xlabel(\"Period (s)\", fontsize=font)\n",
    "\n",
    "    ax[0,0].set_ylabel(r\"PSD ($rad^2$ /$s^2$ /Hz)\",fontsize=font)\n",
    "    ax[1,0].set_ylabel(r\"PSD ($rad^2$ /$s^2$ /Hz)\",fontsize=font)\n",
    "    ax[2,0].set_ylabel(r\"PSD ($rad^2$ /$s^2$ /Hz)\",fontsize=font)\n",
    "    \n",
    "    ## add colorbar\n",
    "    cbar_ax = fig.add_axes([0.91, 0.125, 0.02, 0.755]) #[left, bottom, width, height]\n",
    "    cb = plt.colorbar(im, cax=cbar_ax)    \n",
    "    cb.set_label(\"Propability Density\", fontsize=font, labelpad=-40, color=\"white\")\n",
    "\n",
    "    plt.show();\n",
    "    return fig \n",
    "\n",
    "fig = __plot_rlnm_overview2()"
   ]
  },
  {
   "cell_type": "code",
   "execution_count": null,
   "id": "4b4c41de",
   "metadata": {},
   "outputs": [],
   "source": [
    "rlnm"
   ]
  },
  {
   "cell_type": "code",
   "execution_count": null,
   "id": "655a1bf8",
   "metadata": {
    "ExecuteTime": {
     "end_time": "2023-06-20T11:15:38.881301Z",
     "start_time": "2023-06-20T11:15:38.881291Z"
    }
   },
   "outputs": [],
   "source": [
    "fig.savefig(config['outpath_figures']+\"Overview_median_Final_SRL\"+\".png\", fmt=\"png\", bbox_inches=\"tight\", dpi=300, transparent=None)"
   ]
  },
  {
   "cell_type": "code",
   "execution_count": null,
   "id": "c4a3aec3",
   "metadata": {
    "ExecuteTime": {
     "end_time": "2023-06-20T11:15:38.883171Z",
     "start_time": "2023-06-20T11:15:38.883161Z"
    }
   },
   "outputs": [],
   "source": [
    "## resolution romy\n",
    "# (8e-6*632.8e-9*33.6/4/53.93)**2"
   ]
  },
  {
   "cell_type": "markdown",
   "id": "d8a74c43",
   "metadata": {
    "ExecuteTime": {
     "end_time": "2022-11-09T16:13:47.474813Z",
     "start_time": "2022-11-09T16:13:47.465312Z"
    }
   },
   "source": [
    "## Minimals"
   ]
  },
  {
   "cell_type": "code",
   "execution_count": null,
   "id": "889d0aca",
   "metadata": {
    "ExecuteTime": {
     "end_time": "2023-06-20T11:15:38.883911Z",
     "start_time": "2023-06-20T11:15:38.883902Z"
    },
    "code_folding": [
     0
    ]
   },
   "outputs": [],
   "source": [
    "def __plot_rlnm_minimal_overview():\n",
    "    \n",
    "    font = 14\n",
    "\n",
    "    fig, ax = plt.subplots(2,2,figsize=(15,10), sharex=True, sharey=True)\n",
    "\n",
    "    plt.subplots_adjust(wspace=0.05, hspace=0.1)\n",
    "    \n",
    "    ## add Frequency Axis\n",
    "#     g = lambda x: 1/x\n",
    "#     ax2 = ax.secondary_xaxis(\"top\", functions=(g,g))\n",
    "#     ax2.set_xlabel(\"Frequency in Hz\", fontsize=font, labelpad=5)\n",
    "#     ax2.set_xticklabels(1/periods, fontsize=11)\n",
    "        \n",
    "\n",
    "    ## PFO ADR data\n",
    "    lim_n, lim_e, lim_z = 17, 17, 80\n",
    "    ax[0,0].plot(1/PFO_N['frequencies'][lim_n:], PFO_N['minimal'][lim_n:],  color=\"darkgreen\", zorder=2, label=\"PFO ADR-N 2019\")\n",
    "    ax[0,0].plot(1/PFO_E['frequencies'][lim_e:], PFO_E['minimal'][lim_e:], color=\"yellowgreen\", zorder=2, label=\"PFO ADR-E 2019\")\n",
    "    ax[0,0].plot(1/PFO_Z['frequencies'][lim_z:], PFO_Z['minimal'][lim_z:], color=\"olive\", zorder=2, label=\"PFO ADR-Z 2019\")\n",
    "    \n",
    "    ax[0,0].plot(1/PFO_N['frequencies'][:lim_n], PFO_N['minimal'][:lim_n], ls=\"--\", color=\"darkgreen\", zorder=2)\n",
    "    ax[0,0].plot(1/PFO_E['frequencies'][:lim_e], PFO_E['minimal'][:lim_e], ls=\"--\", color=\"yellowgreen\", zorder=2)\n",
    "    ax[0,0].plot(1/PFO_Z['frequencies'][:lim_z], PFO_Z['minimal'][:lim_z], ls=\"--\", color=\"olive\", zorder=2)\n",
    "    \n",
    "    ## GRF ADR data\n",
    "    lim_n, lim_e, lim_z = 30, 30, 40\n",
    "    ax[1,0].plot(1/GRF_N['frequencies'][lim_n:], GRF_N['minimal'][lim_n:], color=\"sienna\", zorder=2, label=f\"{GRF_array} ADR-N 2019\")\n",
    "    ax[1,0].plot(1/GRF_E['frequencies'][lim_e:], GRF_E['minimal'][lim_e:], color=\"tan\", zorder=2, label=f\"{GRF_array} ADR-E 2019\")\n",
    "    ax[1,0].plot(1/GRF_Z['frequencies'][lim_z:], GRF_Z['minimal'][lim_z:], color=\"indianred\", zorder=2, label=f\"{GRF_array} ADR-Z 2019\")\n",
    "    \n",
    "    ax[1,0].plot(1/GRF_N['frequencies'][:lim_n], GRF_N['minimal'][:lim_n], ls=\"--\", color=\"sienna\", zorder=2)\n",
    "    ax[1,0].plot(1/GRF_E['frequencies'][:lim_e], GRF_E['minimal'][:lim_e], ls=\"--\", color=\"tan\", zorder=2)\n",
    "    ax[1,0].plot(1/GRF_Z['frequencies'][:lim_z], GRF_Z['minimal'][:lim_z], ls=\"--\", color=\"indianred\", zorder=2)\n",
    "        \n",
    "    ## ROMY ADR data 2019\n",
    "    lim_n, lim_e, lim_z = 30, 30, 80\n",
    "    ax[0,1].plot(1/RMY_N['frequencies'][lim_n:], RMY_N['minimal'][lim_n:], color=\"darkcyan\", zorder=2, label=\"ROMY ADR-N 2019\")\n",
    "    ax[0,1].plot(1/RMY_E['frequencies'][lim_e:], RMY_E['minimal'][lim_e:], color=\"skyblue\", zorder=2, label=\"ROMY ADR-E 2019\")\n",
    "    ax[0,1].plot(1/RMY_Z['frequencies'][lim_z:], RMY_Z['minimal'][lim_z:], color=\"cadetblue\", zorder=2, label=\"ROMY ADR-Z 2019\")\n",
    "\n",
    "    ax[0,1].plot(1/RMY_N['frequencies'][:lim_n], RMY_N['minimal'][:lim_n], ls=\"--\", color=\"darkcyan\", zorder=2)\n",
    "    ax[0,1].plot(1/RMY_E['frequencies'][:lim_e], RMY_E['minimal'][:lim_e], ls=\"--\", color=\"skyblue\", zorder=2)\n",
    "    ax[0,1].plot(1/RMY_Z['frequencies'][:lim_z], RMY_Z['minimal'][:lim_z], ls=\"--\", color=\"cadetblue\", zorder=2)\n",
    "\n",
    "    ## single stations model\n",
    "    ax[1,1].plot(ssm_period, ssm_minimal_psd, color=\"purple\", zorder=2, label=\"Single-Stations 2019\")\n",
    "    \n",
    "    # romy data\n",
    "    ax[1,1].plot(1/romy_z['frequencies'], romy_z['minimal'], color=\"orange\", zorder=2, label=\"ROMY-Z 2019\")\n",
    "    \n",
    "\n",
    "    # romy others\n",
    "#     ax[1,1].plot(1/romy_u['frequencies'], romy_u['psds_minimal'], color=\"pink\", zorder=2, label=\"ROMY-U 2022\")\n",
    "#     ax[1,1].plot(1/romy_v['frequencies'], romy_v['psds_minimal'], color=\"hotpink\", zorder=2, label=\"ROMY-V 2022\")\n",
    "#     ax[1,1].plot(1/romy_w['frequencies'], romy_w['psds_minimal'], color=\"orchid\", zorder=2, label=\"ROMY-W 2022\")\n",
    "        \n",
    "\n",
    "    # rlas data\n",
    "    ax[1,1].plot(1/rlas['frequencies'], rlas['minimal'], color=\"blue\", zorder=2, label=\"RLAS 2019\")\n",
    "\n",
    "\n",
    "    ## plotting basics ---------------------\n",
    "    \n",
    "    cmap = plt.cm.get_cmap('magma_r')\n",
    "    cmap.set_under(color='white')\n",
    "    \n",
    "    ## theoretical rlnm\n",
    "    y_axis = 10**(output['bin_mids']/10)\n",
    "    x_axis = output['period']\n",
    "    \n",
    "    for i in range(2):\n",
    "        for j in range(2):\n",
    "            \n",
    "#             ax[i,j].plot(periods, rlnm_psd, color=\"black\", zorder=2, lw=2, label=\"RLNM\")\n",
    "            ax[i,j].plot(output['period'], 10**(output['bins_minimum']/10), color=\"black\", zorder=2, lw=1.5, alpha=0.8, label=\"RLNM\")\n",
    "            \n",
    "            im = ax[i,j].pcolor(x_axis, y_axis, output['dist'].T, cmap=cmap, vmin=1e-12, alpha=0.99)\n",
    "\n",
    "            ax[i,j].set_xscale(\"log\")\n",
    "            ax[i,j].set_yscale(\"log\")\n",
    "            ax[i,j].set_xlim(1, 200)\n",
    "            \n",
    "            ymin, ymax = 8e-27, 5e-19\n",
    "            ax[i,j].set_ylim(ymin, ymax)\n",
    "    \n",
    "            ax[i,j].grid(axis=\"both\", which=\"both\", ls=\"-\", zorder=0, alpha=0.5)\n",
    "            ax[i,j].legend(loc=3)    \n",
    "            ax[i,j].tick_params(axis='both', labelsize=font-2)\n",
    "\n",
    "    \n",
    "    ## add colorbar\n",
    "    cbar_ax = fig.add_axes([0.91, 0.15, 0.02, 0.7]) #[left, bottom, width, height]\n",
    "    cb = plt.colorbar(im, cax=cbar_ax)    \n",
    "    cb.set_label(\"Propability Density\", fontsize=font, labelpad=-40, color=\"white\")\n",
    "\n",
    "#     plt.fill_betweenx(np.linspace(ymin,ymax,5), x1=0, x2=2.5, color=\"lightgrey\", alpha=0.4, zorder=2)\n",
    "#     plt.fill_betweenx(np.linspace(ymin-10,ymax+10,5), x1=100, x2=300, color=\"lightgrey\", alpha=0.4, zorder=2)\n",
    "\n",
    "    ## panel labels\n",
    "    ax[0,0].text(.01, .99, 'a)', ha='left', va='top', transform=ax[0,0].transAxes, fontsize=font+2)\n",
    "    ax[0,1].text(.01, .99, 'b)', ha='left', va='top', transform=ax[0,1].transAxes, fontsize=font+2)\n",
    "    ax[1,0].text(.01, .99, 'c)', ha='left', va='top', transform=ax[1,0].transAxes, fontsize=font+2)\n",
    "    ax[1,1].text(.01, .99, 'd)', ha='left', va='top', transform=ax[1,1].transAxes, fontsize=font+2)\n",
    "     \n",
    "    ax[1,0].set_xlabel(\"Period (s)\", fontsize=font)\n",
    "    ax[1,1].set_xlabel(\"Period (s)\", fontsize=font)\n",
    "\n",
    "    ax[0,0].set_ylabel(r\"PSD ($rad^2$ /$s^2$ /Hz)\",fontsize=font)\n",
    "    ax[1,0].set_ylabel(r\"PSD ($rad^2$ /$s^2$ /Hz)\",fontsize=font)\n",
    "\n",
    "    plt.show();\n",
    "    return fig \n",
    "\n",
    "fig = __plot_rlnm_minimal_overview()"
   ]
  },
  {
   "cell_type": "code",
   "execution_count": null,
   "id": "bd3d94bd",
   "metadata": {
    "ExecuteTime": {
     "end_time": "2023-06-20T11:15:38.884825Z",
     "start_time": "2023-06-20T11:15:38.884815Z"
    }
   },
   "outputs": [],
   "source": [
    "# fig.savefig(config['outpath_figures']+\"Overview_minimal_Final\"+\".png\", fmt=\"png\", bbox_inches=\"tight\", dpi=300, transparent=None)"
   ]
  },
  {
   "cell_type": "markdown",
   "id": "8b187d55",
   "metadata": {},
   "source": [
    "## Minimum"
   ]
  },
  {
   "cell_type": "code",
   "execution_count": null,
   "id": "0b1bc03b",
   "metadata": {
    "ExecuteTime": {
     "end_time": "2023-06-20T11:15:38.885612Z",
     "start_time": "2023-06-20T11:15:38.885602Z"
    },
    "code_folding": [
     0
    ]
   },
   "outputs": [],
   "source": [
    "def __plot_rlnm_minimal_overview():\n",
    "    \n",
    "    font = 14\n",
    "\n",
    "    fig, ax = plt.subplots(2,2,figsize=(15,10), sharex=True, sharey=True)\n",
    "\n",
    "    plt.subplots_adjust(wspace=0.05, hspace=0.1)\n",
    "    \n",
    "    ## add Frequency Axis\n",
    "#     g = lambda x: 1/x\n",
    "#     ax2 = ax.secondary_xaxis(\"top\", functions=(g,g))\n",
    "#     ax2.set_xlabel(\"Frequency in Hz\", fontsize=font, labelpad=5)\n",
    "#     ax2.set_xticklabels(1/periods, fontsize=11)\n",
    "        \n",
    "\n",
    "    ## PFO ADR data\n",
    "    lim_n, lim_e, lim_z = 17, 17, 80\n",
    "    ax[0,0].plot(1/PFO_N['frequencies'][lim_n:], PFO_N['minimum'][lim_n:],  color=\"darkgreen\", zorder=2, label=\"PFO ADR-N 2019\")\n",
    "    ax[0,0].plot(1/PFO_E['frequencies'][lim_e:], PFO_E['minimum'][lim_e:], color=\"yellowgreen\", zorder=2, label=\"PFO ADR-E 2019\")\n",
    "    ax[0,0].plot(1/PFO_Z['frequencies'][lim_z:], PFO_Z['minimum'][lim_z:], color=\"olive\", zorder=2, label=\"PFO ADR-Z 2019\")\n",
    "    \n",
    "    ax[0,0].plot(1/PFO_N['frequencies'][:lim_n], PFO_N['minimum'][:lim_n], ls=\"--\", color=\"darkgreen\", zorder=2)\n",
    "    ax[0,0].plot(1/PFO_E['frequencies'][:lim_e], PFO_E['minimum'][:lim_e], ls=\"--\", color=\"yellowgreen\", zorder=2)\n",
    "    ax[0,0].plot(1/PFO_Z['frequencies'][:lim_z], PFO_Z['minimum'][:lim_z], ls=\"--\", color=\"olive\", zorder=2)\n",
    "    \n",
    "    ## GRF ADR data\n",
    "    lim_n, lim_e, lim_z = 30, 30, 40\n",
    "    ax[1,0].plot(1/GRF_N['frequencies'][lim_n:], GRF_N['minimum'][lim_n:], color=\"sienna\", zorder=2, label=f\"{GRF_array} ADR-N 2019\")\n",
    "    ax[1,0].plot(1/GRF_E['frequencies'][lim_e:], GRF_E['minimum'][lim_e:], color=\"tan\", zorder=2, label=f\"{GRF_array} ADR-E 2019\")\n",
    "    ax[1,0].plot(1/GRF_Z['frequencies'][lim_z:], GRF_Z['minimum'][lim_z:], color=\"indianred\", zorder=2, label=f\"{GRF_array} ADR-Z 2019\")\n",
    "    \n",
    "    ax[1,0].plot(1/GRF_N['frequencies'][:lim_n], GRF_N['minimum'][:lim_n], ls=\"--\", color=\"sienna\", zorder=2)\n",
    "    ax[1,0].plot(1/GRF_E['frequencies'][:lim_e], GRF_E['minimum'][:lim_e], ls=\"--\", color=\"tan\", zorder=2)\n",
    "    ax[1,0].plot(1/GRF_Z['frequencies'][:lim_z], GRF_Z['minimum'][:lim_z], ls=\"--\", color=\"indianred\", zorder=2)\n",
    "        \n",
    "    ## ROMY ADR data 2019\n",
    "    lim_n, lim_e, lim_z = 30, 30, 80\n",
    "    ax[0,1].plot(1/RMY_N['frequencies'][lim_n:], RMY_N['minimum'][lim_n:], color=\"darkcyan\", zorder=2, label=\"ROMY ADR-N 2019\")\n",
    "    ax[0,1].plot(1/RMY_E['frequencies'][lim_e:], RMY_E['minimum'][lim_e:], color=\"skyblue\", zorder=2, label=\"ROMY ADR-E 2019\")\n",
    "    ax[0,1].plot(1/RMY_Z['frequencies'][lim_z:], RMY_Z['minimum'][lim_z:], color=\"cadetblue\", zorder=2, label=\"ROMY ADR-Z 2019\")\n",
    "\n",
    "    ax[0,1].plot(1/RMY_N['frequencies'][:lim_n], RMY_N['minimum'][:lim_n], ls=\"--\", color=\"darkcyan\", zorder=2)\n",
    "    ax[0,1].plot(1/RMY_E['frequencies'][:lim_e], RMY_E['minimum'][:lim_e], ls=\"--\", color=\"skyblue\", zorder=2)\n",
    "    ax[0,1].plot(1/RMY_Z['frequencies'][:lim_z], RMY_Z['minimum'][:lim_z], ls=\"--\", color=\"cadetblue\", zorder=2)\n",
    "\n",
    "    ## single stations model\n",
    "    ax[1,1].plot(ssm_period, ssm_minimal_psd, color=\"purple\", zorder=2, label=\"Single-Stations 2019\")\n",
    "    \n",
    "    # romy data\n",
    "    ax[1,1].plot(1/romy_z['frequencies'], romy_z['minimal'], color=\"orange\", zorder=2, label=\"ROMY-Z 2019\")\n",
    "    \n",
    "\n",
    "    # romy others\n",
    "#     ax[1,1].plot(1/romy_u['frequencies'], romy_u['psds_minimal'], color=\"pink\", zorder=2, label=\"ROMY-U 2022\")\n",
    "#     ax[1,1].plot(1/romy_v['frequencies'], romy_v['psds_minimal'], color=\"hotpink\", zorder=2, label=\"ROMY-V 2022\")\n",
    "#     ax[1,1].plot(1/romy_w['frequencies'], romy_w['psds_minimal'], color=\"orchid\", zorder=2, label=\"ROMY-W 2022\")\n",
    "        \n",
    "\n",
    "    # rlas data\n",
    "    ax[1,1].plot(1/rlas['frequencies'], rlas['minimal'], color=\"blue\", zorder=2, label=\"RLAS 2019\")\n",
    "\n",
    "\n",
    "    ## plotting basics ---------------------\n",
    "    \n",
    "    cmap = plt.cm.get_cmap('magma_r')\n",
    "    cmap.set_under(color='white')\n",
    "    \n",
    "    ## theoretical rlnm\n",
    "    y_axis = 10**(output['bin_mids']/10)\n",
    "    x_axis = output['period']\n",
    "    \n",
    "    for i in range(2):\n",
    "        for j in range(2):\n",
    "            \n",
    "#             ax[i,j].plot(periods, rlnm_psd, color=\"black\", zorder=2, lw=2, label=\"RLNM\")\n",
    "            ax[i,j].plot(output['period'], 10**(output['bins_minimum']/10), color=\"black\", zorder=2, lw=1.5, alpha=0.8, label=\"RLNM\")\n",
    "            \n",
    "            im = ax[i,j].pcolor(x_axis, y_axis, output['dist'].T, cmap=cmap, vmin=1e-12, alpha=0.99)\n",
    "\n",
    "            ax[i,j].set_xscale(\"log\")\n",
    "            ax[i,j].set_yscale(\"log\")\n",
    "            ax[i,j].set_xlim(1, 200)\n",
    "            \n",
    "            ymin, ymax = 8e-27, 5e-19\n",
    "            ax[i,j].set_ylim(ymin, ymax)\n",
    "    \n",
    "            ax[i,j].grid(axis=\"both\", which=\"both\", ls=\"-\", zorder=0, alpha=0.5)\n",
    "            ax[i,j].legend(loc=3)    \n",
    "            ax[i,j].tick_params(axis='both', labelsize=font-2)\n",
    "\n",
    "    \n",
    "    ## add colorbar\n",
    "    cbar_ax = fig.add_axes([0.91, 0.15, 0.02, 0.7]) #[left, bottom, width, height]\n",
    "    cb = plt.colorbar(im, cax=cbar_ax)    \n",
    "    cb.set_label(\"Propability Density\", fontsize=font, labelpad=-40, color=\"white\")\n",
    "\n",
    "#     plt.fill_betweenx(np.linspace(ymin,ymax,5), x1=0, x2=2.5, color=\"lightgrey\", alpha=0.4, zorder=2)\n",
    "#     plt.fill_betweenx(np.linspace(ymin-10,ymax+10,5), x1=100, x2=300, color=\"lightgrey\", alpha=0.4, zorder=2)\n",
    "\n",
    "    ## panel labels\n",
    "    ax[0,0].text(.01, .99, 'a)', ha='left', va='top', transform=ax[0,0].transAxes, fontsize=font+2)\n",
    "    ax[0,1].text(.01, .99, 'b)', ha='left', va='top', transform=ax[0,1].transAxes, fontsize=font+2)\n",
    "    ax[1,0].text(.01, .99, 'c)', ha='left', va='top', transform=ax[1,0].transAxes, fontsize=font+2)\n",
    "    ax[1,1].text(.01, .99, 'd)', ha='left', va='top', transform=ax[1,1].transAxes, fontsize=font+2)\n",
    "     \n",
    "    ax[1,0].set_xlabel(\"Period (s)\", fontsize=font)\n",
    "    ax[1,1].set_xlabel(\"Period (s)\", fontsize=font)\n",
    "\n",
    "    ax[0,0].set_ylabel(r\"PSD ($rad^2$ /$s^2$ /Hz)\",fontsize=font)\n",
    "    ax[1,0].set_ylabel(r\"PSD ($rad^2$ /$s^2$ /Hz)\",fontsize=font)\n",
    "\n",
    "    plt.show();\n",
    "    return fig \n",
    "\n",
    "fig = __plot_rlnm_minimal_overview()"
   ]
  },
  {
   "cell_type": "code",
   "execution_count": null,
   "id": "f3640c03",
   "metadata": {
    "ExecuteTime": {
     "end_time": "2022-11-11T11:51:07.997233Z",
     "start_time": "2022-11-11T11:51:07.989409Z"
    }
   },
   "outputs": [],
   "source": []
  },
  {
   "cell_type": "code",
   "execution_count": null,
   "id": "4f6e49a6",
   "metadata": {},
   "outputs": [],
   "source": []
  }
 ],
 "metadata": {
  "kernelspec": {
   "display_name": "Python 3 (ipykernel)",
   "language": "python",
   "name": "python3"
  },
  "language_info": {
   "codemirror_mode": {
    "name": "ipython",
    "version": 3
   },
   "file_extension": ".py",
   "mimetype": "text/x-python",
   "name": "python",
   "nbconvert_exporter": "python",
   "pygments_lexer": "ipython3",
   "version": "3.7.8"
  },
  "toc": {
   "base_numbering": 1,
   "nav_menu": {},
   "number_sections": true,
   "sideBar": true,
   "skip_h1_title": false,
   "title_cell": "Table of Contents",
   "title_sidebar": "Contents",
   "toc_cell": false,
   "toc_position": {},
   "toc_section_display": true,
   "toc_window_display": false
  },
  "varInspector": {
   "cols": {
    "lenName": 16,
    "lenType": 16,
    "lenVar": 40
   },
   "kernels_config": {
    "python": {
     "delete_cmd_postfix": "",
     "delete_cmd_prefix": "del ",
     "library": "var_list.py",
     "varRefreshCmd": "print(var_dic_list())"
    },
    "r": {
     "delete_cmd_postfix": ") ",
     "delete_cmd_prefix": "rm(",
     "library": "var_list.r",
     "varRefreshCmd": "cat(var_dic_list()) "
    }
   },
   "types_to_exclude": [
    "module",
    "function",
    "builtin_function_or_method",
    "instance",
    "_Feature"
   ],
   "window_display": false
  }
 },
 "nbformat": 4,
 "nbformat_minor": 5
}
